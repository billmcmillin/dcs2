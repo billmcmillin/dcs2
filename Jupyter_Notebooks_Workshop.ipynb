{
 "cells": [
  {
   "cell_type": "markdown",
   "metadata": {},
   "source": [
    "# Jupyter Notebooks - Session 1"
   ]
  },
  {
   "cell_type": "markdown",
   "metadata": {},
   "source": [
    "### What is it?\n",
    "\n",
    "* An application\n",
    "* Client-server architecture\n",
    "    * Client is what we see\n",
    "    * Kernels execute code\n",
    "        - Python, R, etc.\n",
    "    * Server runs the application and makes it available in your browser\n",
    "    \n",
    "* History\n",
    "    * began as IPython\n",
    "    * next supported Julia, Python, and R (JuPyteR)\n",
    "    * now supports a wide range of languages\n",
    "    \n",
    "### Why use it?\n",
    "* Two main uses: lab and presentation notebooks\n",
    "* Lab notebooks for individuals and teams\n",
    "    - use version control \n",
    "\n",
    "### Examples\n",
    "* [Python Data Science Handbook](https://github.com/jakevdp/PythonDataScienceHandbook)\n",
    "\n",
    "\n",
    "\n",
    "### Classroom Use\n",
    "* [nbgrader](https://github.com/jupyter/nbgrader)\n",
    "* [JupyterHub at UC Berkeley](https://data.berkeley.edu/news/passing-notebooks)"
   ]
  },
  {
   "cell_type": "markdown",
   "metadata": {},
   "source": [
    "### Sharing\n",
    "* GitHub - executes code and renders markdown\n",
    "* Your server\n",
    "* Containers\n",
    "* Institutional repositories\n",
    "\n",
    "### Notebook Security\n",
    "* Notebooks execute arbitrary code, so limit access to authenticated users\n",
    "* Do not send credentials without encryption\n",
    "* Do not trust a notebook from an untrusted source"
   ]
  },
  {
   "cell_type": "markdown",
   "metadata": {},
   "source": [
    "### Presentation\n",
    "\n",
    "#### Markdown\n",
    "\n",
    "\n",
    "#### LaTex\n",
    "* designate a cell as markdown and enclose in $$\n",
    "\n",
    "$$c = \\sqrt{a^2 + b^2}$$"
   ]
  },
  {
   "cell_type": "markdown",
   "metadata": {},
   "source": [
    "## Getting started\n",
    "* exploratory lab notebook\n",
    "* Load libraries"
   ]
  },
  {
   "cell_type": "code",
   "execution_count": 28,
   "metadata": {},
   "outputs": [],
   "source": [
    "import numpy as np\n",
    "import pandas as pd"
   ]
  },
  {
   "cell_type": "code",
   "execution_count": 32,
   "metadata": {},
   "outputs": [
    {
     "name": "stdout",
     "output_type": "stream",
     "text": [
      "Okiedokie\n"
     ]
    },
    {
     "data": {
      "text/plain": [
       "6"
      ]
     },
     "execution_count": 32,
     "metadata": {},
     "output_type": "execute_result"
    }
   ],
   "source": [
    "# basic Python\n",
    "print('Okiedokie')\n",
    "3 + 3"
   ]
  },
  {
   "cell_type": "markdown",
   "metadata": {},
   "source": [
    "### Explain what you're doing\n",
    "* [Markdown basics](https://github.com/adam-p/markdown-here/wiki/Markdown-Cheatsheet)\n",
    "* Embed an image with html\n",
    "\n",
    "<img src=\"http://libraries.uc.edu/content/dam/libraries/banner-libraries.png\" alt=\"Off-Campus Access -Login\" title=\"UC Libraries Logo\">\n",
    "\n",
    "<br />\n",
    "After my cool intro, I'll start by importing data"
   ]
  },
  {
   "cell_type": "markdown",
   "metadata": {},
   "source": [
    "### Import Data\n",
    "\n",
    "<img src=\"upload.png\">"
   ]
  },
  {
   "cell_type": "code",
   "execution_count": null,
   "metadata": {},
   "outputs": [],
   "source": []
  },
  {
   "cell_type": "code",
   "execution_count": null,
   "metadata": {},
   "outputs": [],
   "source": [
    "from ipywidgets import *"
   ]
  }
 ],
 "metadata": {
  "kernelspec": {
   "display_name": "Python 3",
   "language": "python",
   "name": "python3"
  },
  "language_info": {
   "codemirror_mode": {
    "name": "ipython",
    "version": 3
   },
   "file_extension": ".py",
   "mimetype": "text/x-python",
   "name": "python",
   "nbconvert_exporter": "python",
   "pygments_lexer": "ipython3",
   "version": "3.5.2"
  }
 },
 "nbformat": 4,
 "nbformat_minor": 2
}
